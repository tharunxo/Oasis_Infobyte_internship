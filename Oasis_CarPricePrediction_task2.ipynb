{
  "nbformat": 4,
  "nbformat_minor": 0,
  "metadata": {
    "colab": {
      "provenance": [],
      "authorship_tag": "ABX9TyMc1RPtBuEFSwr1bjbyb30Z",
      "include_colab_link": true
    },
    "kernelspec": {
      "name": "python3",
      "display_name": "Python 3"
    },
    "language_info": {
      "name": "python"
    }
  },
  "cells": [
    {
      "cell_type": "markdown",
      "metadata": {
        "id": "view-in-github",
        "colab_type": "text"
      },
      "source": [
        "<a href=\"https://colab.research.google.com/github/tharunxo/Oasis_Infobyte_internship/blob/main/Oasis_CarPricePrediction_task2.ipynb\" target=\"_parent\"><img src=\"https://colab.research.google.com/assets/colab-badge.svg\" alt=\"Open In Colab\"/></a>"
      ]
    },
    {
      "cell_type": "code",
      "execution_count": null,
      "metadata": {
        "colab": {
          "base_uri": "https://localhost:8080/"
        },
        "id": "5OPvXfZlpGpB",
        "outputId": "6cf93798-f1f9-42bc-b237-2f27325a1c43"
      },
      "outputs": [
        {
          "output_type": "stream",
          "name": "stdout",
          "text": [
            "  Car_Name  Year  Selling_Price  Present_Price  Driven_kms Fuel_Type  \\\n",
            "0     ritz  2014           3.35           5.59       27000    Petrol   \n",
            "1      sx4  2013           4.75           9.54       43000    Diesel   \n",
            "2     ciaz  2017           7.25           9.85        6900    Petrol   \n",
            "3  wagon r  2011           2.85           4.15        5200    Petrol   \n",
            "4    swift  2014           4.60           6.87       42450    Diesel   \n",
            "\n",
            "  Selling_type Transmission  Owner  \n",
            "0       Dealer       Manual      0  \n",
            "1       Dealer       Manual      0  \n",
            "2       Dealer       Manual      0  \n",
            "3       Dealer       Manual      0  \n",
            "4       Dealer       Manual      0  \n",
            "Mean Squared Error: 2.1505361550146613\n",
            "Predicted Selling Price: [2.2235]\n"
          ]
        }
      ],
      "source": [
        "\n",
        "import pandas as pd\n",
        "from sklearn.model_selection import train_test_split\n",
        "from sklearn.ensemble import RandomForestRegressor\n",
        "from sklearn.metrics import mean_squared_error\n",
        "from sklearn.preprocessing import LabelEncoder\n",
        "\n",
        "\n",
        "data = pd.read_csv('car data.csv')\n",
        "print(data.head())\n",
        "\n",
        "\n",
        "label_encoder = LabelEncoder()\n",
        "data['Fuel_Type'] = label_encoder.fit_transform(data['Fuel_Type'])\n",
        "data['Selling_type'] = label_encoder.fit_transform(data['Selling_type'])\n",
        "data['Transmission'] = label_encoder.fit_transform(data['Transmission'])\n",
        "\n",
        "X = data.drop(['Car_Name', 'Year', 'Selling_Price'], axis=1)\n",
        "y = data['Selling_Price']\n",
        "\n",
        "X_train, X_test, y_train, y_test = train_test_split(X, y, test_size=0.2, random_state=42)\n",
        "model = RandomForestRegressor()\n",
        "model.fit(X_train, y_train)\n",
        "\n",
        "y_pred = model.predict(X_test)\n",
        "mse = mean_squared_error(y_test, y_pred)\n",
        "print(f'Mean Squared Error: {mse}')\n",
        "\n",
        "#predicting the new car price\n",
        "new_data = pd.DataFrame({\n",
        "    'Present_Price': [5.0],\n",
        "    'Driven_kms': [300000],\n",
        "    'Fuel_Type': ['Petrol'],\n",
        "    'Selling_type': ['Dealer'],\n",
        "    'Transmission': ['Manual'],\n",
        "    'Owner': [0]\n",
        "})\n",
        "\n",
        "\n",
        "new_data['Fuel_Type'] = label_encoder.fit_transform(new_data['Fuel_Type'])\n",
        "\n",
        "new_data['Selling_type'] = label_encoder.fit_transform(new_data['Selling_type'])\n",
        "new_data['Transmission'] = label_encoder.fit_transform(new_data['Transmission'])\n",
        "prediction = model.predict(new_data)\n",
        "print(f'Predicted Selling Price: {prediction}')\n"
      ]
    }
  ]
}