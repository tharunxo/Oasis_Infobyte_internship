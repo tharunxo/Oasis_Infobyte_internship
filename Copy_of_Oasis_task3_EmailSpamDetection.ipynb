{
  "nbformat": 4,
  "nbformat_minor": 0,
  "metadata": {
    "colab": {
      "provenance": [],
      "authorship_tag": "ABX9TyOWqpvn+nngIalinqy2zbPD",
      "include_colab_link": true
    },
    "kernelspec": {
      "name": "python3",
      "display_name": "Python 3"
    },
    "language_info": {
      "name": "python"
    }
  },
  "cells": [
    {
      "cell_type": "markdown",
      "metadata": {
        "id": "view-in-github",
        "colab_type": "text"
      },
      "source": [
        "<a href=\"https://colab.research.google.com/github/tharunxo/Oasis_Infobyte_internship/blob/main/Copy_of_Oasis_task3_EmailSpamDetection.ipynb\" target=\"_parent\"><img src=\"https://colab.research.google.com/assets/colab-badge.svg\" alt=\"Open In Colab\"/></a>"
      ]
    },
    {
      "cell_type": "code",
      "execution_count": null,
      "metadata": {
        "id": "6_Z_-BIgwkKa",
        "colab": {
          "base_uri": "https://localhost:8080/"
        },
        "outputId": "03e544f4-631f-4082-f883-ab43b6c6c7be"
      },
      "outputs": [
        {
          "output_type": "stream",
          "name": "stdout",
          "text": [
            "Accuracy: 0.98\n",
            "\n",
            "Confusion Matrix:\n",
            "[[963   2]\n",
            " [ 16 134]]\n",
            "\n",
            "Classification Report:\n",
            "              precision    recall  f1-score   support\n",
            "\n",
            "           0       0.98      1.00      0.99       965\n",
            "           1       0.99      0.89      0.94       150\n",
            "\n",
            "    accuracy                           0.98      1115\n",
            "   macro avg       0.98      0.95      0.96      1115\n",
            "weighted avg       0.98      0.98      0.98      1115\n",
            "\n",
            "Email: Hi, you won a 5000 dollars click the below link to avail the offer!\n",
            "Predicted Label: spam\n",
            "--------------------------------------------------\n",
            "Email: Hi,Let's catch up soon.\n",
            "Predicted Label: ham\n",
            "--------------------------------------------------\n",
            "Email: Your account needs verification. Please click the link.\n",
            "Predicted Label: spam\n",
            "--------------------------------------------------\n",
            "Email: Meeting scheduled for tomorrow at 2 PM in the conference room.\n",
            "Predicted Label: ham\n",
            "--------------------------------------------------\n"
          ]
        }
      ],
      "source": [
        "import numpy as np\n",
        "import pandas as pd\n",
        "from sklearn.model_selection import train_test_split\n",
        "from sklearn.feature_extraction.text import CountVectorizer\n",
        "from sklearn.naive_bayes import MultinomialNB\n",
        "from sklearn.metrics import accuracy_score, classification_report, confusion_matrix\n",
        "\n",
        "data = pd.read_csv('spam.csv', encoding='latin1')\n",
        "\n",
        "X = data['v2']\n",
        "y = data['v1']\n",
        "\n",
        "y = y.map({'ham': 0, 'spam': 1})\n",
        "X_train, X_test, y_train, y_test = train_test_split(X, y, test_size=0.2, random_state=42)\n",
        "vectorizer = CountVectorizer()\n",
        "X_train_vectorized = vectorizer.fit_transform(X_train)\n",
        "X_test_vectorized = vectorizer.transform(X_test)\n",
        "\n",
        "classifier = MultinomialNB()\n",
        "classifier.fit(X_train_vectorized, y_train)\n",
        "\n",
        "y_pred = classifier.predict(X_test_vectorized)\n",
        "\n",
        "accuracy = accuracy_score(y_test, y_pred)\n",
        "conf_matrix = confusion_matrix(y_test, y_pred)\n",
        "classification_rep = classification_report(y_test, y_pred)\n",
        "\n",
        "print(f'Accuracy: {accuracy:.2f}')\n",
        "print('\\nConfusion Matrix:')\n",
        "print(conf_matrix)\n",
        "print('\\nClassification Report:')\n",
        "print(classification_rep)\n",
        "\n",
        "# Example emails to test the model\n",
        "new_emails = [\n",
        "    \"Hi, you won a 5000 dollars click the below link to avail the offer!\",\n",
        "    \"Hi,Let's catch up soon.\",\n",
        "    \"Your account needs verification. Please click the link.\",\n",
        "    \"Meeting scheduled for tomorrow at 2 PM in the conference room.\",\n",
        "]\n",
        "new_emails_vectorized = vectorizer.transform(new_emails)\n",
        "\n",
        "predictions = classifier.predict(new_emails_vectorized)\n",
        "predicted_labels = np.where(predictions == 0, 'ham', 'spam')\n",
        "for email, label in zip(new_emails, predicted_labels):\n",
        "    print(f\"Email: {email}\\nPredicted Label: {label}\\n{'-'*50}\")\n"
      ]
    }
  ]
}